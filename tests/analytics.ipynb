{
 "cells": [
  {
   "cell_type": "code",
   "execution_count": 1,
   "metadata": {},
   "outputs": [],
   "source": [
    "import sympy as sy"
   ]
  },
  {
   "cell_type": "code",
   "execution_count": 118,
   "metadata": {},
   "outputs": [],
   "source": [
    "a_0 = sy.Symbol('a_0')\n",
    "A_01 = sy.Symbol('A_{{01}}')\n",
    "A_10 = sy.Symbol('A_{{10}}')\n",
    "A_ij = sy.Symbol('A_{{ij}}')\n",
    "C_ij = sy.Symbol('C_{{ij}}')\n",
    "Delta_t = sy.Symbol('\\\\Delta t')\n",
    "E_0 = sy.Symbol('E_0')\n",
    "E_1 = sy.Symbol('E_1')\n",
    "E_i = sy.Symbol('E_i')\n",
    "E_j = sy.Symbol('E_j')\n",
    "g_0 = sy.Symbol('g_0')\n",
    "g_1 = sy.Symbol('g_1')\n",
    "g_i = sy.Symbol('g_i')\n",
    "g_j = sy.Symbol('g_j')\n",
    "gamma_ij = sy.Symbol('\\\\gamma_{{ij}}')\n",
    "h = sy.Symbol('h')\n",
    "I = sy.Identity(2)\n",
    "k_B = sy.Symbol('k_B')\n",
    "m_e = sy.Symbol('m_e')\n",
    "N_e = sy.Symbol('N_e')\n",
    "n_0 = sy.Symbol('n_0')\n",
    "n_1 = sy.Symbol('n_1')\n",
    "n_t = sy.MatrixSymbol('n_t', 2, 2)\n",
    "P_ij = sy.MatrixSymbol('P_{{ij}}', 2, 2)\n",
    "q = sy.Symbol('q')\n",
    "# R_ij = sy.Symbol('R_{{ij}}', commutative=False)\n",
    "R_ij = sy.MatrixSymbol('R_{{ij}}', 2, 2)\n",
    "Ry = sy.Symbol('Ry')\n",
    "T = sy.Symbol('T')\n",
    "T_e = sy.Symbol('T_e')"
   ]
  },
  {
   "cell_type": "code",
   "execution_count": 119,
   "metadata": {},
   "outputs": [],
   "source": [
    "constants = {\n",
    "    a_0: 5.2917721090380e-9, # cm\n",
    "    gamma_ij: 1.0,\n",
    "    h: 6.58211951440e-16, # eV * s\n",
    "    k_B: 8.617333262e-5, # eV * K^{-1}\n",
    "    m_e: 5.68563010362509e-16, # cm^{-2} * eV * s^2\n",
    "    Ry: 13.60569312299426, # eV\n",
    "}"
   ]
  },
  {
   "cell_type": "code",
   "execution_count": 120,
   "metadata": {},
   "outputs": [],
   "source": [
    "q_ij = (\n",
    "    + 2 * sy.sqrt(sy.pi) * a_0 * h\n",
    "    / m_e\n",
    "    * sy.sqrt(Ry / (k_B * T_e))\n",
    "    * gamma_ij / g_i\n",
    "    * sy.exp(-(E_j - E_i) / (k_B * T))\n",
    ")"
   ]
  },
  {
   "cell_type": "code",
   "execution_count": 121,
   "metadata": {},
   "outputs": [],
   "source": [
    "q_ji = (\n",
    "    + 2 * sy.sqrt(sy.pi) * a_0 * h\n",
    "    / m_e\n",
    "    * sy.sqrt(Ry / (k_B * T_e))\n",
    "    * gamma_ij / g_j\n",
    ")"
   ]
  },
  {
   "cell_type": "code",
   "execution_count": 122,
   "metadata": {},
   "outputs": [],
   "source": [
    "C_ij = q * N_e"
   ]
  },
  {
   "cell_type": "code",
   "execution_count": 123,
   "metadata": {},
   "outputs": [],
   "source": [
    "P_ij = C_ij + A_ij"
   ]
  },
  {
   "cell_type": "code",
   "execution_count": 124,
   "metadata": {},
   "outputs": [],
   "source": [
    "P_00 = P_ij.subs({q: 0, A_ij: 0})\n",
    "P_01 = P_ij.subs(q, q_ij).subs(A_ij, A_01).subs(g_i, g_0).subs(g_j, g_1).subs(E_i, E_0).subs(E_j, E_1)\n",
    "P_10 = P_ij.subs(q, q_ji).subs(A_ij, A_10).subs(g_i, g_0).subs(g_j, g_1)\n",
    "P_11 = P_ij.subs({q: 0, A_ij: 0})"
   ]
  },
  {
   "cell_type": "code",
   "execution_count": 125,
   "metadata": {},
   "outputs": [
    {
     "data": {
      "text/latex": [
       "$\\displaystyle \\left[\\begin{matrix}0 & A_{{01}} + \\frac{2 \\sqrt{\\pi} N_{e} \\gamma_{{ij}} a_{0} h \\sqrt{\\frac{Ry}{T_{e} k_{B}}} e^{\\frac{E_{0} - E_{1}}{T k_{B}}}}{g_{0} m_{e}}\\\\A_{{10}} + \\frac{2 \\sqrt{\\pi} N_{e} \\gamma_{{ij}} a_{0} h \\sqrt{\\frac{Ry}{T_{e} k_{B}}}}{g_{1} m_{e}} & 0\\end{matrix}\\right]$"
      ],
      "text/plain": [
       "Matrix([\n",
       "[                                                                         0, A_{{01}} + 2*sqrt(pi)*N_e*\\gamma_{{ij}}*a_0*h*sqrt(Ry/(T_e*k_B))*exp((E_0 - E_1)/(T*k_B))/(g_0*m_e)],\n",
       "[A_{{10}} + 2*sqrt(pi)*N_e*\\gamma_{{ij}}*a_0*h*sqrt(Ry/(T_e*k_B))/(g_1*m_e),                                                                                                   0]])"
      ]
     },
     "execution_count": 125,
     "metadata": {},
     "output_type": "execute_result"
    }
   ],
   "source": [
    "P = sy.Matrix([[P_00, P_01], [P_10, P_11]])\n",
    "P"
   ]
  },
  {
   "attachments": {},
   "cell_type": "markdown",
   "metadata": {},
   "source": [
    "$$\n",
    "\\begin{pmatrix}\n",
    "\\frac{dn_0}{dt} \\\\\n",
    "\\frac{dn_1}{dt}\n",
    "\\end{pmatrix}\n",
    "=\n",
    "\\begin{pmatrix}\n",
    "-P_{01} & P_{10} \\\\\n",
    "P_{01}  & -P_{10}\n",
    "\\end{pmatrix}\n",
    "\\begin{pmatrix}\n",
    "n_0 \\\\\n",
    "n_1\n",
    "\\end{pmatrix}\n",
    "=\n",
    "\\begin{pmatrix}\n",
    "-P_{01} n_0 + P_{10} n_1 \\\\\n",
    "P_{01} n_0 - P_{10} n_1\n",
    "\\end{pmatrix}\n",
    "$$"
   ]
  },
  {
   "cell_type": "code",
   "execution_count": 126,
   "metadata": {},
   "outputs": [
    {
     "data": {
      "text/latex": [
       "$\\displaystyle \\left[\\begin{matrix}- A_{{01}} - \\frac{2 \\sqrt{\\pi} N_{e} \\gamma_{{ij}} a_{0} h \\sqrt{\\frac{Ry}{T_{e} k_{B}}} e^{\\frac{E_{0} - E_{1}}{T k_{B}}}}{g_{0} m_{e}} & A_{{10}} + \\frac{2 \\sqrt{\\pi} N_{e} \\gamma_{{ij}} a_{0} h \\sqrt{\\frac{Ry}{T_{e} k_{B}}}}{g_{1} m_{e}}\\\\A_{{01}} + \\frac{2 \\sqrt{\\pi} N_{e} \\gamma_{{ij}} a_{0} h \\sqrt{\\frac{Ry}{T_{e} k_{B}}} e^{\\frac{E_{0} - E_{1}}{T k_{B}}}}{g_{0} m_{e}} & - A_{{10}} - \\frac{2 \\sqrt{\\pi} N_{e} \\gamma_{{ij}} a_{0} h \\sqrt{\\frac{Ry}{T_{e} k_{B}}}}{g_{1} m_{e}}\\end{matrix}\\right]$"
      ],
      "text/plain": [
       "Matrix([\n",
       "[-A_{{01}} - 2*sqrt(pi)*N_e*\\gamma_{{ij}}*a_0*h*sqrt(Ry/(T_e*k_B))*exp((E_0 - E_1)/(T*k_B))/(g_0*m_e),  A_{{10}} + 2*sqrt(pi)*N_e*\\gamma_{{ij}}*a_0*h*sqrt(Ry/(T_e*k_B))/(g_1*m_e)],\n",
       "[ A_{{01}} + 2*sqrt(pi)*N_e*\\gamma_{{ij}}*a_0*h*sqrt(Ry/(T_e*k_B))*exp((E_0 - E_1)/(T*k_B))/(g_0*m_e), -A_{{10}} - 2*sqrt(pi)*N_e*\\gamma_{{ij}}*a_0*h*sqrt(Ry/(T_e*k_B))/(g_1*m_e)]])"
      ]
     },
     "execution_count": 126,
     "metadata": {},
     "output_type": "execute_result"
    }
   ],
   "source": [
    "R = sy.Matrix([[-P[0, 1], P[1, 0]], [P[0, 1], -P[1, 0]]])\n",
    "R"
   ]
  },
  {
   "cell_type": "code",
   "execution_count": 127,
   "metadata": {},
   "outputs": [
    {
     "data": {
      "text/latex": [
       "$\\displaystyle \\frac{g_{i} e^{- \\frac{E_{i}}{T k_{B}}}}{g_{0} e^{- \\frac{E_{0}}{T k_{B}}} + g_{1} e^{- \\frac{E_{1}}{T k_{B}}}}$"
      ],
      "text/plain": [
       "g_i*exp(-E_i/(T*k_B))/(g_0*exp(-E_0/(T*k_B)) + g_1*exp(-E_1/(T*k_B)))"
      ]
     },
     "execution_count": 127,
     "metadata": {},
     "output_type": "execute_result"
    }
   ],
   "source": [
    "n_i = (\n",
    "    + g_i * sy.exp(-E_i / (k_B * T))\n",
    "    / (g_0 * sy.exp(-E_0 / (k_B * T)) + g_1 * sy.exp(-E_1 / (k_B * T)))\n",
    ")\n",
    "n_i"
   ]
  },
  {
   "cell_type": "code",
   "execution_count": 128,
   "metadata": {},
   "outputs": [],
   "source": [
    "levels_12P3P4_12P1D4 = {\n",
    "    # 12P3P4\n",
    "    g_0: 9,\n",
    "    E_0: 0, # eV\n",
    "\n",
    "    # 12P1D4\n",
    "    g_1: 5,\n",
    "    E_1: 1.957696455240094, # eV\n",
    "\n",
    "    A_01: 0,\n",
    "\n",
    "    A_10: ( # 0.00149507\n",
    "        + (\n",
    "            + 2.11e-05 * (2 * 2 + 1)\n",
    "            + 0.00563 * (2 * 2 + 1)\n",
    "            + 0.00182 * (2 * 2 + 1)\n",
    "            + 3.39e-06 * (2 * 2 + 1)\n",
    "            + 8.6e-07 * (2 * 2 + 1)\n",
    "        )\n",
    "        / ((2 * 2 + 1) + (2 * 2 + 1) + (2 * 2 + 1) + (2 * 2 + 1) + (2 * 2 + 1))\n",
    "    ),\n",
    "}\n",
    "\n",
    "levels_12P3P4_13S3S = {\n",
    "    # 12P3P4\n",
    "    g_0: 9,\n",
    "    E_0: 0, # eV\n",
    "\n",
    "    # 13S3S\n",
    "    g_1: 3,\n",
    "    E_1: 9.511695728174285, # eV\n",
    "\n",
    "    A_01: 0,\n",
    "\n",
    "    A_10: 1830,\n",
    "}\n",
    "\n",
    "variables = {\n",
    "    T: 1e4, # K\n",
    "    T_e: 1e4, # K\n",
    "}"
   ]
  },
  {
   "cell_type": "code",
   "execution_count": null,
   "metadata": {},
   "outputs": [],
   "source": []
  },
  {
   "cell_type": "code",
   "execution_count": 17,
   "metadata": {},
   "outputs": [],
   "source": [
    "def population():\n",
    "    n_0 = n_i.subs({g_i: g_0, E_i: E_0})\n",
    "    n_1 = n_i.subs({g_i: g_1, E_i: E_1})\n",
    "    n = sy.Matrix([[n_0], [n_1]])\n",
    "    return n\n",
    "\n",
    "n = population()"
   ]
  },
  {
   "cell_type": "code",
   "execution_count": null,
   "metadata": {},
   "outputs": [],
   "source": []
  },
  {
   "cell_type": "code",
   "execution_count": 162,
   "metadata": {},
   "outputs": [
    {
     "data": {
      "text/latex": [
       "$\\displaystyle A_{{01}} n_{0} - A_{{10}} n_{1} + N_{e} \\left(- \\frac{2 \\sqrt{\\pi} \\gamma_{{ij}} a_{0} h n_{1} \\sqrt{\\frac{Ry}{T_{e} k_{B}}}}{g_{1} m_{e}} + \\frac{2 \\sqrt{\\pi} \\gamma_{{ij}} a_{0} h n_{0} \\sqrt{\\frac{Ry}{T_{e} k_{B}}} e^{\\frac{E_{0}}{T k_{B}}} e^{- \\frac{E_{1}}{T k_{B}}}}{g_{0} m_{e}}\\right)$"
      ],
      "text/plain": [
       "A_{{01}}*n_0 - A_{{10}}*n_1 + N_e*(-2*sqrt(pi)*\\gamma_{{ij}}*a_0*h*n_1*sqrt(Ry/(T_e*k_B))/(g_1*m_e) + 2*sqrt(pi)*\\gamma_{{ij}}*a_0*h*n_0*sqrt(Ry/(T_e*k_B))*exp(E_0/(T*k_B))*exp(-E_1/(T*k_B))/(g_0*m_e))"
      ]
     },
     "execution_count": 162,
     "metadata": {},
     "output_type": "execute_result"
    }
   ],
   "source": [
    "dn_1 = (R * sy.Matrix([[n_0], [n_1]]))[1].simplify().expand().collect(N_e)\n",
    "dn_1"
   ]
  },
  {
   "cell_type": "code",
   "execution_count": 205,
   "metadata": {},
   "outputs": [
    {
     "data": {
      "text/latex": [
       "$\\displaystyle 5.3603451374437 \\cdot 10^{-6}$"
      ],
      "text/plain": [
       "5.36034513744370e-6"
      ]
     },
     "execution_count": 205,
     "metadata": {},
     "output_type": "execute_result"
    }
   ],
   "source": [
    "sy.solve(dn_1.subs(constants).subs(variables).subs(levels_12P3P4_13S3S).n().subs(N_e, 5e25).subs(n_0, 1 - n_1), n_1)[0]"
   ]
  },
  {
   "cell_type": "code",
   "execution_count": 185,
   "metadata": {},
   "outputs": [
    {
     "data": {
      "text/latex": [
       "$\\displaystyle -1.29530540182991 \\cdot 10^{26}$"
      ],
      "text/plain": [
       "-1.29530540182991e+26"
      ]
     },
     "execution_count": 185,
     "metadata": {},
     "output_type": "execute_result"
    }
   ],
   "source": [
    "sy.solve(dn_1.subs(constants).subs(variables).subs(levels_12P3P4_13S3S).n().subs(n_0, 1 - n_1).subs(n_1, 5.36034513744371e-6), N_e)[0]"
   ]
  },
  {
   "cell_type": "code",
   "execution_count": 222,
   "metadata": {},
   "outputs": [
    {
     "data": {
      "text/latex": [
       "$\\displaystyle 0.0541872451709805$"
      ],
      "text/plain": [
       "0.0541872451709805"
      ]
     },
     "execution_count": 222,
     "metadata": {},
     "output_type": "execute_result"
    }
   ],
   "source": [
    "sy.solve(dn_1.subs(constants).subs(variables).subs(levels_12P3P4_12P1D4).n().subs(N_e, 8e19).subs(n_0, 1 - n_1), n_1)[0]"
   ]
  },
  {
   "cell_type": "code",
   "execution_count": 186,
   "metadata": {},
   "outputs": [
    {
     "data": {
      "text/latex": [
       "$\\displaystyle -3.91758333831037 \\cdot 10^{20}$"
      ],
      "text/plain": [
       "-3.91758333831037e+20"
      ]
     },
     "execution_count": 186,
     "metadata": {},
     "output_type": "execute_result"
    }
   ],
   "source": [
    "sy.solve(dn_1.subs(constants).subs(variables).subs(levels_12P3P4_12P1D4).n().subs(n_0, 1 - n_1).subs(n_1, 0.0541872451709805), N_e)[0]"
   ]
  },
  {
   "cell_type": "code",
   "execution_count": null,
   "metadata": {},
   "outputs": [],
   "source": []
  }
 ],
 "metadata": {
  "kernelspec": {
   "display_name": ".venv",
   "language": "python",
   "name": "python3"
  },
  "language_info": {
   "codemirror_mode": {
    "name": "ipython",
    "version": 3
   },
   "file_extension": ".py",
   "mimetype": "text/x-python",
   "name": "python",
   "nbconvert_exporter": "python",
   "pygments_lexer": "ipython3",
   "version": "3.10.10"
  },
  "orig_nbformat": 4
 },
 "nbformat": 4,
 "nbformat_minor": 2
}
