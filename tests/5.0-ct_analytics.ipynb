{
 "cells": [
  {
   "cell_type": "code",
   "execution_count": 1,
   "metadata": {},
   "outputs": [],
   "source": [
    "import sympy as sy"
   ]
  },
  {
   "cell_type": "code",
   "execution_count": 9,
   "metadata": {},
   "outputs": [],
   "source": [
    "a_plus = sy.Symbol('a_+')\n",
    "a_minus = sy.Symbol('a_-')\n",
    "b_plus = sy.Symbol('b_+')\n",
    "b_minus = sy.Symbol('b_-')\n",
    "c_plus = sy.Symbol('c_+')\n",
    "c_minus = sy.Symbol('c_-')\n",
    "d_plus = sy.Symbol('d_+')\n",
    "d_minus = sy.Symbol('d_-')\n",
    "i = sy.Symbol('i')\n",
    "j = sy.Symbol('j')\n",
    "K = sy.Symbol('K')\n",
    "k_B = sy.Symbol('k_B')\n",
    "T = sy.Symbol('T')\n",
    "T_4 = sy.Symbol('T_4')\n",
    "Z = sy.Symbol('Z')\n",
    "\n",
    "I = sy.MatrixSymbol('I', 1, K)\n",
    "C_CTI = sy.MatrixSymbol('C^{{(CTI)}}', K, K)\n",
    "C_CTR = sy.MatrixSymbol('C^{{(CTR)}}', K, K)"
   ]
  },
  {
   "cell_type": "code",
   "execution_count": 3,
   "metadata": {},
   "outputs": [
    {
     "data": {
      "text/latex": [
       "$\\displaystyle T_{4} = 0.0001 T$"
      ],
      "text/plain": [
       "Eq(T_4, 0.0001*T)"
      ]
     },
     "execution_count": 3,
     "metadata": {},
     "output_type": "execute_result"
    }
   ],
   "source": [
    "T_4_ = T / 1.0e4\n",
    "sy.Eq(T_4, T_4_)"
   ]
  },
  {
   "cell_type": "code",
   "execution_count": 10,
   "metadata": {},
   "outputs": [
    {
     "data": {
      "text/latex": [
       "$\\displaystyle C^{{(CTI)}}_{i, j} = \\begin{cases} T_{4}^{b_{-}} a_{-} e^{- T_{4} c_{-}} e^{- \\frac{I_{0, i}}{T k_{B}}} & \\text{for}\\: Z > 8 \\vee Z < 8 \\\\a_{-} \\left(- d_{-} e^{- T_{4} c_{-}} + 1\\right) e^{- \\frac{I_{0, i}}{T k_{B}}} & \\text{otherwise} \\end{cases}$"
      ],
      "text/plain": [
       "Eq(C^{{(CTI)}}[i, j], Piecewise((T_4**b_-*a_-*exp(-T_4*c_-)*exp(-I[0, i]/(T*k_B)), (Z > 8) | (Z < 8)), (a_-*(-d_-*exp(-T_4*c_-) + 1)*exp(-I[0, i]/(T*k_B)), True)))"
      ]
     },
     "execution_count": 10,
     "metadata": {},
     "output_type": "execute_result"
    }
   ],
   "source": [
    "C_CTI_ = sy.FunctionMatrix(\n",
    "    K, K,\n",
    "    sy.Lambda(\n",
    "        (i, j),\n",
    "        sy.Piecewise(\n",
    "            (a_minus * T_4**b_minus * sy.exp(-c_minus * T_4) * sy.exp(-I[0, i] / (k_B * T)), (Z < 8) | (Z > 8)),\n",
    "            (a_minus * sy.exp(-I[0, i] / (k_B * T)) * (1 - d_minus * sy.exp(-c_minus * T_4)), True),\n",
    "        )\n",
    "    )\n",
    ")\n",
    "sy.Eq(C_CTI[i, j], C_CTI_[i, j])"
   ]
  },
  {
   "cell_type": "code",
   "execution_count": 11,
   "metadata": {},
   "outputs": [
    {
     "data": {
      "text/latex": [
       "$\\displaystyle C^{{(CTR)}}_{i, j} = T_{4}^{b_{+}} a_{+} \\left(c_{+} e^{T_{4} d_{+}} + 1\\right)$"
      ],
      "text/plain": [
       "Eq(C^{{(CTR)}}[i, j], T_4**b_+*a_+*(c_+*exp(T_4*d_+) + 1))"
      ]
     },
     "execution_count": 11,
     "metadata": {},
     "output_type": "execute_result"
    }
   ],
   "source": [
    "C_CTR_ = sy.FunctionMatrix(\n",
    "    K, K,\n",
    "    sy.Lambda(\n",
    "        (i, j),\n",
    "        a_plus * T_4**b_plus * (1 + c_plus * sy.exp(d_plus * T_4))\n",
    "    )\n",
    ")\n",
    "sy.Eq(C_CTR[i, j], C_CTR_[i, j])"
   ]
  },
  {
   "cell_type": "code",
   "execution_count": null,
   "metadata": {},
   "outputs": [],
   "source": []
  }
 ],
 "metadata": {
  "kernelspec": {
   "display_name": ".venv",
   "language": "python",
   "name": "python3"
  },
  "language_info": {
   "codemirror_mode": {
    "name": "ipython",
    "version": 3
   },
   "file_extension": ".py",
   "mimetype": "text/x-python",
   "name": "python",
   "nbconvert_exporter": "python",
   "pygments_lexer": "ipython3",
   "version": "3.10.10"
  },
  "orig_nbformat": 4
 },
 "nbformat": 4,
 "nbformat_minor": 2
}
