{
 "cells": [
  {
   "cell_type": "code",
   "execution_count": 1,
   "metadata": {},
   "outputs": [],
   "source": [
    "import sympy as sy\n",
    "import matplotlib.pyplot as plt\n",
    "import numpy as np"
   ]
  },
  {
   "cell_type": "code",
   "execution_count": 2,
   "metadata": {},
   "outputs": [],
   "source": [
    "a_0 = sy.Symbol('a_0')\n",
    "gamma_ij = sy.Symbol('\\\\gamma_{{ij}}')\n",
    "h = sy.Symbol('h')\n",
    "i = sy.Symbol('i')\n",
    "j = sy.Symbol('j')\n",
    "k = sy.Symbol('k')\n",
    "K = sy.Symbol('K')\n",
    "k_B = sy.Symbol('k_B')\n",
    "m_e = sy.Symbol('m_e')\n",
    "N_e = sy.Symbol('N_e')\n",
    "Ry = sy.Symbol('Ry')\n",
    "t = sy.Symbol('t')\n",
    "T = sy.Symbol('T')\n",
    "T_e = sy.Symbol('T_e')\n",
    "zeta = sy.Symbol('\\\\zeta')\n",
    "\n",
    "C_CE = sy.MatrixSymbol('C^{{(CE)}}', K, K)\n",
    "C_CD = sy.MatrixSymbol('C^{{(CD)}}', K, K)\n",
    "C_CE_CD = sy.MatrixSymbol('C^{{(CE/CD)}}', K, K)\n",
    "E = sy.MatrixSymbol('E', 1, K)\n",
    "g = sy.MatrixSymbol('g', 1, K)\n",
    "n = sy.MatrixSymbol('n', K, 1)\n",
    "Q_tot = sy.MatrixSymbol('Q^{{(tot)}}', K, K)\n",
    "R_CE_CD = sy.MatrixSymbol('R^{{(CE/CD)}}', K, K)\n",
    "R_SE = sy.MatrixSymbol('R^{{(SE)}}', K, K)\n",
    "R_tot = sy.MatrixSymbol('R^{{(tot)}}', K, K)"
   ]
  },
  {
   "cell_type": "code",
   "execution_count": 3,
   "metadata": {},
   "outputs": [],
   "source": [
    "constants = {\n",
    "    a_0: 5.2917721090380e-9, # cm\n",
    "    gamma_ij: 1.0, # 1\n",
    "    h: 6.58211951440e-16, # eV * s\n",
    "    k_B: 8.617333262e-5, # eV * K^{-1}\n",
    "    m_e: 5.68563010362509e-16, # eV * cm^{-2} * s^2\n",
    "    Ry: 13.60569312299426, # eV\n",
    "}"
   ]
  },
  {
   "cell_type": "code",
   "execution_count": 4,
   "metadata": {},
   "outputs": [],
   "source": [
    "levels_12P3P4_13S3S = {\n",
    "    # 12P3P4\n",
    "    g[0, 0]: 9,\n",
    "    E[0, 0]: 0, # eV\n",
    "\n",
    "    # 13S3S\n",
    "    g[0, 1]: 3,\n",
    "    E[0, 1]: 9.511695728174285, # eV\n",
    "\n",
    "    R_SE[0, 1]: 0,\n",
    "\n",
    "    # R_SE[1, 0]: 1830,\n",
    "    R_SE[1, 0]: (\n",
    "        + (\n",
    "            + 341000000.0 * (2 * 1 + 1)\n",
    "            + 203000000.0 * (2 * 1 + 1)\n",
    "            + 67600000.0 * (2 * 1 + 1)\n",
    "        )\n",
    "        / ((2 * 1 + 1) + (2 * 1 + 1) + (2 * 1 + 1))\n",
    "    )\n",
    "}\n",
    "levels_12P3P4_13S3S = {k.subs(K, 2) : v for k, v in levels_12P3P4_13S3S.items()}"
   ]
  },
  {
   "cell_type": "code",
   "execution_count": 5,
   "metadata": {},
   "outputs": [
    {
     "data": {
      "text/latex": [
       "$\\displaystyle \\zeta = \\frac{2 \\sqrt{\\pi} \\sqrt{Ry} a_{0} h}{\\sqrt{k_{B}} m_{e}}$"
      ],
      "text/plain": [
       "Eq(\\zeta, 2*sqrt(pi)*sqrt(Ry)*a_0*h/(sqrt(k_B)*m_e))"
      ]
     },
     "execution_count": 5,
     "metadata": {},
     "output_type": "execute_result"
    }
   ],
   "source": [
    "zeta_ = 2 * sy.sqrt(sy.pi * Ry) * a_0 * h / (m_e * sy.sqrt(k_B))\n",
    "sy.Eq(zeta, zeta_)"
   ]
  },
  {
   "cell_type": "code",
   "execution_count": 6,
   "metadata": {},
   "outputs": [
    {
     "data": {
      "text/latex": [
       "$\\displaystyle \\zeta = 8.62913210858377 \\cdot 10^{-6}$"
      ],
      "text/plain": [
       "Eq(\\zeta, 8.62913210858377e-6)"
      ]
     },
     "execution_count": 6,
     "metadata": {},
     "output_type": "execute_result"
    }
   ],
   "source": [
    "zeta__ = zeta_.subs(constants).n()\n",
    "sy.Eq(zeta, zeta__)"
   ]
  },
  {
   "cell_type": "code",
   "execution_count": 7,
   "metadata": {},
   "outputs": [
    {
     "data": {
      "text/latex": [
       "$\\displaystyle C^{{(CE)}}_{ij} = \\left( \\left( i, \\  j\\right) \\mapsto \\frac{\\gamma_{{ij}} \\zeta e^{\\frac{E_{0, i} - E_{0, j}}{T k_{B}}}}{\\sqrt{T_{e}} g_{0, i}} \\right)$"
      ],
      "text/plain": [
       "Eq(C^{{(CE)}}_{ij}, Lambda((i, j), \\gamma_{{ij}}*\\zeta*exp((E[0, i] - E[0, j])/(T*k_B))/(sqrt(T_e)*g[0, i])))"
      ]
     },
     "execution_count": 7,
     "metadata": {},
     "output_type": "execute_result"
    }
   ],
   "source": [
    "C_CE_ = sy.FunctionMatrix(\n",
    "    K,\n",
    "    K,\n",
    "    sy.Lambda(\n",
    "        (i, j),\n",
    "        + zeta\n",
    "        * (T_e**sy.Rational(-1/2))\n",
    "        * gamma_ij / g[0, i]\n",
    "        * sy.exp(-(E[0, j] - E[0, i]) / (k_B * T))\n",
    "    )\n",
    ")\n",
    "sy.Eq(sy.Symbol('C^{{(CE)}}_{ij}'), C_CE_.lamda)"
   ]
  },
  {
   "cell_type": "code",
   "execution_count": 8,
   "metadata": {},
   "outputs": [
    {
     "data": {
      "text/latex": [
       "$\\displaystyle C^{{(CD)}}_{ij} = \\left( \\left( i, \\  j\\right) \\mapsto \\frac{\\gamma_{{ij}} \\zeta}{\\sqrt{T_{e}} g_{0, i}} \\right)$"
      ],
      "text/plain": [
       "Eq(C^{{(CD)}}_{ij}, Lambda((i, j), \\gamma_{{ij}}*\\zeta/(sqrt(T_e)*g[0, i])))"
      ]
     },
     "execution_count": 8,
     "metadata": {},
     "output_type": "execute_result"
    }
   ],
   "source": [
    "C_CD_ = sy.FunctionMatrix(\n",
    "    K,\n",
    "    K,\n",
    "    sy.Lambda(\n",
    "        (i, j),\n",
    "        + zeta\n",
    "        * (T_e**sy.Rational(-1/2))\n",
    "        * gamma_ij / g[0, i]\n",
    "    )\n",
    ")\n",
    "sy.Eq(sy.Symbol('C^{{(CD)}}_{ij}'), C_CD_.lamda)"
   ]
  },
  {
   "cell_type": "code",
   "execution_count": 9,
   "metadata": {},
   "outputs": [
    {
     "data": {
      "text/latex": [
       "$\\displaystyle C^{{(CE/CD)}}_{ij} = \\left( \\left( i, \\  j\\right) \\mapsto \\begin{cases} C^{{(CD)}}_{i, j} & \\text{for}\\: i \\geq j \\\\C^{{(CE)}}_{i, j} & \\text{otherwise} \\end{cases} \\right)$"
      ],
      "text/plain": [
       "Eq(C^{{(CE/CD)}}_{ij}, Lambda((i, j), Piecewise((C^{{(CD)}}[i, j], i >= j), (C^{{(CE)}}[i, j], True))))"
      ]
     },
     "execution_count": 9,
     "metadata": {},
     "output_type": "execute_result"
    }
   ],
   "source": [
    "C_CE_CD_ = sy.FunctionMatrix(\n",
    "    K,\n",
    "    K,\n",
    "    sy.Lambda(\n",
    "        (i, j),\n",
    "        sy.Piecewise((C_CD[i, j], i >= j), (C_CE[i, j], i < j))\n",
    "    )\n",
    ")\n",
    "sy.Eq(sy.Symbol('C^{{(CE/CD)}}_{ij}'), C_CE_CD_.lamda)"
   ]
  },
  {
   "cell_type": "code",
   "execution_count": 10,
   "metadata": {},
   "outputs": [
    {
     "data": {
      "text/latex": [
       "$\\displaystyle R^{{(CE/CD)}}_{ij} = \\left( \\left( i, \\  j\\right) \\mapsto N_{e} C^{{(CE/CD)}}_{i, j} \\right)$"
      ],
      "text/plain": [
       "Eq(R^{{(CE/CD)}}_{ij}, Lambda((i, j), N_e*C^{{(CE/CD)}}[i, j]))"
      ]
     },
     "execution_count": 10,
     "metadata": {},
     "output_type": "execute_result"
    }
   ],
   "source": [
    "R_CE_CD_ = sy.FunctionMatrix(\n",
    "    K,\n",
    "    K,\n",
    "    sy.Lambda(\n",
    "        (i, j),\n",
    "        C_CE_CD[i, j] * N_e\n",
    "    )\n",
    ")\n",
    "sy.Eq(sy.Symbol('R^{{(CE/CD)}}_{ij}'), R_CE_CD_.lamda)"
   ]
  },
  {
   "cell_type": "code",
   "execution_count": 11,
   "metadata": {},
   "outputs": [
    {
     "data": {
      "text/latex": [
       "$\\displaystyle R^{{(tot)}}_{ij} = \\left( \\left( i, \\  j\\right) \\mapsto \\begin{cases} R^{{(CE/CD)}}_{i, j} + R^{{(SE)}}_{i, j} & \\text{for}\\: i > j \\vee i < j \\\\0 & \\text{otherwise} \\end{cases} \\right)$"
      ],
      "text/plain": [
       "Eq(R^{{(tot)}}_{ij}, Lambda((i, j), Piecewise((R^{{(CE/CD)}}[i, j] + R^{{(SE)}}[i, j], (i > j) | (i < j)), (0, True))))"
      ]
     },
     "execution_count": 11,
     "metadata": {},
     "output_type": "execute_result"
    }
   ],
   "source": [
    "R_tot_ = sy.FunctionMatrix(\n",
    "    K,\n",
    "    K,\n",
    "    sy.Lambda(\n",
    "        (i, j),\n",
    "        sy.Piecewise(\n",
    "            (R_CE_CD[i, j] + R_SE[i, j], (i < j) | (i > j)),\n",
    "            (0, True),\n",
    "        )\n",
    "    )\n",
    ")\n",
    "sy.Eq(sy.Symbol('R^{{(tot)}}_{ij}'), R_tot_.lamda)"
   ]
  },
  {
   "cell_type": "code",
   "execution_count": 12,
   "metadata": {},
   "outputs": [
    {
     "data": {
      "text/latex": [
       "$\\displaystyle \\left[\\begin{matrix}0 & 1.5418458094459 \\cdot 10^{-9}\\\\203866666.666954 & 0\\end{matrix}\\right]$"
      ],
      "text/plain": [
       "Matrix([\n",
       "[               0, 1.5418458094459e-9],\n",
       "[203866666.666954,                  0]])"
      ]
     },
     "execution_count": 12,
     "metadata": {},
     "output_type": "execute_result"
    }
   ],
   "source": [
    "(\n",
    "    R_tot_\n",
    "        .subs(R_CE_CD, R_CE_CD_)\n",
    "        .subs(C_CE_CD, C_CE_CD_)\n",
    "        .subs(C_CE, C_CE_)\n",
    "        .subs(C_CD, C_CD_)\n",
    "        .subs(K, 2)\n",
    "        .doit()\n",
    "        .as_explicit()\n",
    "        .subs(constants)\n",
    "        .subs(zeta, zeta__)\n",
    "        .subs(levels_12P3P4_13S3S)\n",
    "        .subs(N_e, 1.0e4)\n",
    "        .subs(T, 1.0e4)\n",
    "        .subs(T_e, 1.0e4)\n",
    ")"
   ]
  },
  {
   "cell_type": "code",
   "execution_count": 13,
   "metadata": {},
   "outputs": [
    {
     "data": {
      "text/latex": [
       "$\\displaystyle Q^{{(tot)}}_{{i, j}} = \\left( \\left( i, \\  j\\right) \\mapsto \\begin{cases} - \\sum_{k=0}^{K - 1} \\begin{cases} 0 & \\text{for}\\: i = k \\\\R^{{(tot)}}_{i, k} & \\text{otherwise} \\end{cases} & \\text{for}\\: i = j \\\\R^{{(tot)}}_{j, i} & \\text{otherwise} \\end{cases} \\right)$"
      ],
      "text/plain": [
       "Eq(Q^{{(tot)}}_{{i, j}}, Lambda((i, j), Piecewise((-Sum(Piecewise((0, Eq(i, k)), (R^{{(tot)}}[i, k], True)), (k, 0, K - 1)), Eq(i, j)), (R^{{(tot)}}[j, i], True))))"
      ]
     },
     "execution_count": 13,
     "metadata": {},
     "output_type": "execute_result"
    }
   ],
   "source": [
    "Q_tot_ = sy.FunctionMatrix(\n",
    "    K,\n",
    "    K,\n",
    "    sy.Lambda(\n",
    "        (i, j),\n",
    "        sy.Piecewise(\n",
    "            (\n",
    "                -sy.Sum(\n",
    "                    sy.Piecewise(\n",
    "                        (0, sy.Equality(i, k)),\n",
    "                        (R_tot[i, k], True),\n",
    "                    ),\n",
    "                    (k, 0, K - 1)\n",
    "                ),\n",
    "                sy.Equality(i, j)\n",
    "            ),\n",
    "            (R_tot[j, i], True),\n",
    "        )\n",
    "    )\n",
    ")\n",
    "sy.Eq(sy.Symbol('Q^{{(tot)}}_{{i, j}}'), Q_tot_.lamda)"
   ]
  },
  {
   "cell_type": "code",
   "execution_count": 14,
   "metadata": {},
   "outputs": [
    {
     "data": {
      "text/latex": [
       "$\\displaystyle Q^{{(tot)}} = \\left[\\begin{matrix}- R^{{(tot)}}_{0, 1} & R^{{(tot)}}_{1, 0}\\\\R^{{(tot)}}_{0, 1} & - R^{{(tot)}}_{1, 0}\\end{matrix}\\right]$"
      ],
      "text/plain": [
       "Eq(Q^{{(tot)}}, Matrix([\n",
       "[-R^{{(tot)}}[0, 1],  R^{{(tot)}}[1, 0]],\n",
       "[ R^{{(tot)}}[0, 1], -R^{{(tot)}}[1, 0]]]))"
      ]
     },
     "execution_count": 14,
     "metadata": {},
     "output_type": "execute_result"
    }
   ],
   "source": [
    "(lambda K_: sy.Eq(Q_tot.subs(K, K_), Q_tot_.subs(K, K_).as_explicit().doit()))(2)"
   ]
  },
  {
   "cell_type": "code",
   "execution_count": 15,
   "metadata": {},
   "outputs": [
    {
     "data": {
      "text/latex": [
       "$\\displaystyle Q^{{(tot)}} = \\left[\\begin{matrix}- \\frac{N_{e} \\gamma_{{ij}} \\zeta e^{\\frac{E_{0, 0} - E_{0, 1}}{T k_{B}}}}{\\sqrt{T_{e}} g_{0, 0}} - R^{{(SE)}}_{0, 1} & \\frac{N_{e} \\gamma_{{ij}} \\zeta}{\\sqrt{T_{e}} g_{0, 1}} + R^{{(SE)}}_{1, 0}\\\\\\frac{N_{e} \\gamma_{{ij}} \\zeta e^{\\frac{E_{0, 0} - E_{0, 1}}{T k_{B}}}}{\\sqrt{T_{e}} g_{0, 0}} + R^{{(SE)}}_{0, 1} & - \\frac{N_{e} \\gamma_{{ij}} \\zeta}{\\sqrt{T_{e}} g_{0, 1}} - R^{{(SE)}}_{1, 0}\\end{matrix}\\right]$"
      ],
      "text/plain": [
       "Eq(Q^{{(tot)}}, Matrix([\n",
       "[-N_e*\\gamma_{{ij}}*\\zeta*exp((E[0, 0] - E[0, 1])/(T*k_B))/(sqrt(T_e)*g[0, 0]) - R^{{(SE)}}[0, 1],  N_e*\\gamma_{{ij}}*\\zeta/(sqrt(T_e)*g[0, 1]) + R^{{(SE)}}[1, 0]],\n",
       "[ N_e*\\gamma_{{ij}}*\\zeta*exp((E[0, 0] - E[0, 1])/(T*k_B))/(sqrt(T_e)*g[0, 0]) + R^{{(SE)}}[0, 1], -N_e*\\gamma_{{ij}}*\\zeta/(sqrt(T_e)*g[0, 1]) - R^{{(SE)}}[1, 0]]]))"
      ]
     },
     "execution_count": 15,
     "metadata": {},
     "output_type": "execute_result"
    }
   ],
   "source": [
    "Q_tot__ = (\n",
    "    Q_tot_\n",
    "        .subs(R_tot, R_tot_)\n",
    "        .subs(R_CE_CD, R_CE_CD_)\n",
    "        .subs(C_CE_CD, C_CE_CD_)\n",
    "        .subs(C_CE, C_CE_)\n",
    "        .subs(C_CD, C_CD_)\n",
    ")\n",
    "(\n",
    "    lambda K_:\n",
    "        sy.Eq(\n",
    "            Q_tot.subs(K, K_),\n",
    "            Q_tot__.subs(K, K_).doit().as_explicit()\n",
    "        )\n",
    ")(2)"
   ]
  },
  {
   "cell_type": "code",
   "execution_count": 16,
   "metadata": {},
   "outputs": [
    {
     "data": {
      "text/latex": [
       "$\\displaystyle n = \\left[\\begin{matrix}\\frac{d}{d t} n_{0, 0}\\\\\\frac{d}{d t} n_{1, 0}\\end{matrix}\\right]$"
      ],
      "text/plain": [
       "Eq(n, Matrix([\n",
       "[Derivative(n[0, 0], t)],\n",
       "[Derivative(n[1, 0], t)]]))"
      ]
     },
     "execution_count": 16,
     "metadata": {},
     "output_type": "execute_result"
    }
   ],
   "source": [
    "dn_dt_ = sy.FunctionMatrix(K, 1, sy.Lambda((i, j), sy.Derivative(n[i, 0], t)))\n",
    "(lambda K_: sy.Eq(n.subs(K, K_), dn_dt_.subs(K, K_).as_explicit()))(2)"
   ]
  },
  {
   "cell_type": "code",
   "execution_count": 17,
   "metadata": {},
   "outputs": [
    {
     "data": {
      "text/latex": [
       "$\\displaystyle \\left[\\begin{matrix}\\frac{d}{d t} n_{0, 0}\\\\\\frac{d}{d t} n_{1, 0}\\end{matrix}\\right] = \\left[\\begin{matrix}\\left(\\frac{N_{e} \\gamma_{{ij}} \\zeta}{\\sqrt{T_{e}} g_{0, 1}} + R^{{(SE)}}_{1, 0}\\right) n_{1, 0} - \\left(\\frac{N_{e} \\gamma_{{ij}} \\zeta e^{\\frac{E_{0, 0} - E_{0, 1}}{T k_{B}}}}{\\sqrt{T_{e}} g_{0, 0}} + R^{{(SE)}}_{0, 1}\\right) n_{0, 0}\\\\- \\left(\\frac{N_{e} \\gamma_{{ij}} \\zeta}{\\sqrt{T_{e}} g_{0, 1}} + R^{{(SE)}}_{1, 0}\\right) n_{1, 0} + \\left(\\frac{N_{e} \\gamma_{{ij}} \\zeta e^{\\frac{E_{0, 0} - E_{0, 1}}{T k_{B}}}}{\\sqrt{T_{e}} g_{0, 0}} + R^{{(SE)}}_{0, 1}\\right) n_{0, 0}\\end{matrix}\\right]$"
      ],
      "text/plain": [
       "Eq(Matrix([\n",
       "[Derivative(n[0, 0], t)],\n",
       "[Derivative(n[1, 0], t)]]), Matrix([\n",
       "[ (N_e*\\gamma_{{ij}}*\\zeta/(sqrt(T_e)*g[0, 1]) + R^{{(SE)}}[1, 0])*n[1, 0] - (N_e*\\gamma_{{ij}}*\\zeta*exp((E[0, 0] - E[0, 1])/(T*k_B))/(sqrt(T_e)*g[0, 0]) + R^{{(SE)}}[0, 1])*n[0, 0]],\n",
       "[-(N_e*\\gamma_{{ij}}*\\zeta/(sqrt(T_e)*g[0, 1]) + R^{{(SE)}}[1, 0])*n[1, 0] + (N_e*\\gamma_{{ij}}*\\zeta*exp((E[0, 0] - E[0, 1])/(T*k_B))/(sqrt(T_e)*g[0, 0]) + R^{{(SE)}}[0, 1])*n[0, 0]]]))"
      ]
     },
     "execution_count": 17,
     "metadata": {},
     "output_type": "execute_result"
    }
   ],
   "source": [
    "(lambda K_: sy.Eq(dn_dt_.subs(K, K_).as_explicit(), (Q_tot__ * n).subs(K, K_).as_explicit()))(2)"
   ]
  },
  {
   "cell_type": "code",
   "execution_count": 18,
   "metadata": {},
   "outputs": [
    {
     "data": {
      "text/latex": [
       "$\\displaystyle \\sum_{k=0}^{K - 1} n_{k, 0} = 1$"
      ],
      "text/plain": [
       "Eq(Sum(n[k, 0], (k, 0, K - 1)), 1)"
      ]
     },
     "execution_count": 18,
     "metadata": {},
     "output_type": "execute_result"
    }
   ],
   "source": [
    "sy.Eq(sy.Sum(n[k, 0], (k, 0, K - 1)), 1)"
   ]
  },
  {
   "cell_type": "code",
   "execution_count": 19,
   "metadata": {},
   "outputs": [
    {
     "name": "stdout",
     "output_type": "stream",
     "text": [
      "K = 2\n"
     ]
    },
    {
     "data": {
      "text/latex": [
       "$\\displaystyle n_{1, 0} = 1 - n_{0, 0}$"
      ],
      "text/plain": [
       "Eq(n[1, 0], 1 - n[0, 0])"
      ]
     },
     "execution_count": 19,
     "metadata": {},
     "output_type": "execute_result"
    }
   ],
   "source": [
    "print('K = 2')\n",
    "(lambda K_: sy.Eq(n[1, 0].subs(K, K_), sy.solve(sy.Sum(n[k, 0], (k, 0, K - 1)).subs(K, K_).doit() - 1, n[1, 0].subs(K, K_))[0]))(2)"
   ]
  },
  {
   "cell_type": "code",
   "execution_count": 20,
   "metadata": {},
   "outputs": [
    {
     "data": {
      "text/latex": [
       "$\\displaystyle n_{1, 0} = \\frac{\\left(N_{e} \\sqrt{T_{e}} \\gamma_{{ij}} \\zeta e^{\\frac{E_{0, 0}}{T k_{B}}} + T_{e} e^{\\frac{E_{0, 1}}{T k_{B}}} R^{{(SE)}}_{0, 1} g_{0, 0}\\right) g_{0, 1}}{N_{e} \\sqrt{T_{e}} \\zeta \\left(\\gamma_{{ij}} e^{\\frac{E_{0, 0}}{T k_{B}}} g_{0, 1} + \\gamma_{{ij}} e^{\\frac{E_{0, 1}}{T k_{B}}} g_{0, 0}\\right) + T_{e} \\left(e^{\\frac{E_{0, 1}}{T k_{B}}} R^{{(SE)}}_{0, 1} g_{0, 0} g_{0, 1} + e^{\\frac{E_{0, 1}}{T k_{B}}} R^{{(SE)}}_{1, 0} g_{0, 0} g_{0, 1}\\right)}$"
      ],
      "text/plain": [
       "Eq(n[1, 0], (N_e*sqrt(T_e)*\\gamma_{{ij}}*\\zeta*exp(E[0, 0]/(T*k_B)) + T_e*exp(E[0, 1]/(T*k_B))*R^{{(SE)}}[0, 1]*g[0, 0])*g[0, 1]/(N_e*sqrt(T_e)*\\zeta*(\\gamma_{{ij}}*exp(E[0, 0]/(T*k_B))*g[0, 1] + \\gamma_{{ij}}*exp(E[0, 1]/(T*k_B))*g[0, 0]) + T_e*(exp(E[0, 1]/(T*k_B))*R^{{(SE)}}[0, 1]*g[0, 0]*g[0, 1] + exp(E[0, 1]/(T*k_B))*R^{{(SE)}}[1, 0]*g[0, 0]*g[0, 1])))"
      ]
     },
     "execution_count": 20,
     "metadata": {},
     "output_type": "execute_result"
    }
   ],
   "source": [
    "n_1_ = (\n",
    "    sy.solve(\n",
    "        (Q_tot__ * n)\n",
    "            .subs(K, 2)\n",
    "            .as_explicit()\n",
    "            .subs(n[0, 0].subs(K, 2), 1 - n[1, 0].subs(K, 2)),\n",
    "            n.subs(K, 2)[1, 0]\n",
    "    )[n[1, 0].subs(K, 2)]\n",
    ")\n",
    "n_1__ = (\n",
    "    n_1_\n",
    "        .simplify()\n",
    "        .collect(N_e * zeta)\n",
    "        .collect(g[0, 0] * g[0, 1])\n",
    "        .collect(1 / sy.sqrt(T_e))\n",
    "        .collect(sy.exp(E[0, 1] / (k_B * T)))\n",
    ")\n",
    "sy.Eq(\n",
    "    n[1, 0].subs(K, 2),\n",
    "    n_1__\n",
    ")"
   ]
  },
  {
   "cell_type": "code",
   "execution_count": null,
   "metadata": {},
   "outputs": [],
   "source": []
  },
  {
   "cell_type": "code",
   "execution_count": 21,
   "metadata": {},
   "outputs": [
    {
     "data": {
      "text/latex": [
       "$\\displaystyle n_{1, 0} = \\frac{2.58873963257513 \\cdot 10^{-5} N_{e} T_{e}^{0.5}}{7.7662188977254 \\cdot 10^{-5} N_{e} T_{e}^{0.5} e^{\\frac{110378.645446129}{T}} + 2.58873963257513 \\cdot 10^{-5} N_{e} T_{e}^{0.5} + 5504400000.0 T_{e} e^{\\frac{110378.645446129}{T}}}$"
      ],
      "text/plain": [
       "Eq(n[1, 0], 2.58873963257513e-5*N_e*T_e**0.5/(7.7662188977254e-5*N_e*T_e**0.5*exp(110378.645446129/T) + 2.58873963257513e-5*N_e*T_e**0.5 + 5504400000.0*T_e*exp(110378.645446129/T)))"
      ]
     },
     "execution_count": 21,
     "metadata": {},
     "output_type": "execute_result"
    }
   ],
   "source": [
    "n_1___ = n_1__.subs(zeta, zeta_).subs(constants).subs(levels_12P3P4_13S3S).expand().n()\n",
    "sy.Eq(n[1, 0], n_1___)"
   ]
  },
  {
   "cell_type": "code",
   "execution_count": 26,
   "metadata": {},
   "outputs": [],
   "source": [
    "count = int(1e3)\n",
    "electron_number_densities = np.geomspace(1.0e1, 1.0e30, num=count)\n",
    "\n",
    "T_ = 1.0e4\n",
    "\n",
    "n_1____ = [\n",
    "    n_1___.subs(T_e, T).subs(T, T_).subs(N_e, N_e_)\n",
    "    for N_e_ in electron_number_densities\n",
    "]"
   ]
  },
  {
   "cell_type": "code",
   "execution_count": 27,
   "metadata": {},
   "outputs": [
    {
     "data": {
      "image/png": "[encoded data removed]",
      "text/plain": [
       "<Figure size 640x480 with 1 Axes>"
      ]
     },
     "metadata": {},
     "output_type": "display_data"
    }
   ],
   "source": [
    "fig, ax = plt.subplots()\n",
    "\n",
    "plt.plot(electron_number_densities, n_1____, label=\"13S3S\")\n",
    "plt.title(\"Analytics SE + CE/CD\")\n",
    "plt.xlabel(\"Electron number density, $cm^{-3}$\")\n",
    "plt.ylabel(\"Electron population, $1$\")\n",
    "plt.xscale(\"log\")\n",
    "plt.yscale(\"log\")\n",
    "plt.legend()\n",
    "plt.text(\n",
    "    0.04,\n",
    "    0.04,\n",
    "    f\"$T = ${'{:.1e}'.format(T_)} K\\n\"\n",
    "    f\"$T_e = ${'{:.1e}'.format(T_)} K\",\n",
    "    transform = ax.transAxes,\n",
    "    bbox={'facecolor': 'white', 'alpha': 0.8, 'edgecolor': (0.8, 0.8, 0.8)}\n",
    ")\n",
    "plt.grid()\n",
    "plt.show()"
   ]
  },
  {
   "cell_type": "code",
   "execution_count": null,
   "metadata": {},
   "outputs": [],
   "source": []
  },
  {
   "cell_type": "code",
   "execution_count": 24,
   "metadata": {},
   "outputs": [],
   "source": [
    "count = int(1e3)\n",
    "temperatures = np.geomspace(1.0e3, 1.0e30, num=count)\n",
    "\n",
    "N_e_ = 1.0e12\n",
    "\n",
    "n_1____ = [\n",
    "    n_1___.subs(T_e, T).subs(T, T_).subs(N_e, N_e_)\n",
    "    for T_ in temperatures\n",
    "]"
   ]
  },
  {
   "cell_type": "code",
   "execution_count": 25,
   "metadata": {},
   "outputs": [
    {
     "data": {
      "image/png": "[encoded data removed]",
      "text/plain": [
       "<Figure size 640x480 with 1 Axes>"
      ]
     },
     "metadata": {},
     "output_type": "display_data"
    }
   ],
   "source": [
    "fig, ax = plt.subplots()\n",
    "\n",
    "plt.plot(temperatures, n_1____, label=\"13S3S\")\n",
    "plt.title(\"Analytics SE + CE/CD\")\n",
    "plt.xlabel(\"Temperature, $K$\")\n",
    "plt.ylabel(\"Electron population, $1$\")\n",
    "plt.xscale(\"log\")\n",
    "plt.yscale(\"log\")\n",
    "plt.legend()\n",
    "plt.text(\n",
    "    0.04,\n",
    "    0.04,\n",
    "    f\"$N_e = ${'{:.1e}'.format(N_e_)} $cm^{{-3}}$\",\n",
    "    transform = ax.transAxes,\n",
    "    bbox={'facecolor': 'white', 'alpha': 0.8, 'edgecolor': (0.8, 0.8, 0.8)}\n",
    ")\n",
    "plt.grid()\n",
    "plt.show()"
   ]
  },
  {
   "cell_type": "code",
   "execution_count": null,
   "metadata": {},
   "outputs": [],
   "source": []
  }
 ],
 "metadata": {
  "kernelspec": {
   "display_name": ".venv",
   "language": "python",
   "name": "python3"
  },
  "language_info": {
   "codemirror_mode": {
    "name": "ipython",
    "version": 3
   },
   "file_extension": ".py",
   "mimetype": "text/x-python",
   "name": "python",
   "nbconvert_exporter": "python",
   "pygments_lexer": "ipython3",
   "version": "3.10.10"
  },
  "orig_nbformat": 4
 },
 "nbformat": 4,
 "nbformat_minor": 2
}
