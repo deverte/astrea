{
 "cells": [
  {
   "attachments": {},
   "cell_type": "markdown",
   "metadata": {},
   "source": [
    "# Photoionization / radiative recombination + dielectronic recombination\n",
    "\n",
    "- formula:\n",
    "  - photoionization: [Tasitsiomi 2006](https://doi.org/10.1086%2F504460) (cross-sections)\n",
    "  - radiative recombination: [Verner 1995](https://doi.org/10.1086%2F192284)\n",
    "  - dielectronic recombination: [Badnell 2006](https://doi.org/10.1086%2F508465)\n",
    "- data:\n",
    "  - radiative recombination: [Badnell 2006](https://doi.org/10.1086%2F508465)\n",
    "  - dielectronic recombination: [Badnell 2006](https://doi.org/10.1086%2F508465)"
   ]
  },
  {
   "cell_type": "code",
   "execution_count": 1,
   "metadata": {},
   "outputs": [],
   "source": [
    "import numpy as np\n",
    "import matplotlib.pyplot as plt\n",
    "\n",
    "import lss\n",
    "\n",
    "from utils import *"
   ]
  },
  {
   "cell_type": "code",
   "execution_count": 2,
   "metadata": {},
   "outputs": [],
   "source": [
    "elements = [\n",
    "    lss.O1Inasan(),\n",
    "    lss.O2Inasan(),\n",
    "]\n",
    "\"\"\"\n",
    "13S3S - fast level\n",
    "12P1D4 - \n",
    "\"\"\"\n",
    "# elements[0].keys = elements[0].all_keys; elements[1].keys = elements[1].all_keys\n",
    "elements[0].keys = [\"12P3P4\"]; elements[1].keys = [\"22P4S\"]\n",
    "# elements[0].keys = [\"12P1D4\"]; elements[1].keys = [\"22P4S\"]\n",
    "# elements[0].keys = [\"13S3S\"]; elements[1].keys = [\"22P4S\"]\n",
    "\n",
    "population_nlte_1 = np.zeros(sum([len(el.keys) for el in elements]))\n",
    "# population_nlte_1[0] = 1.0\n",
    "population_nlte_1[0] = 0.0\n",
    "population_nlte_1[1] = 1.0\n",
    "\n",
    "count = int(1e3)\n",
    "temperatures = np.full(count, 1.0e4)\n",
    "electron_temperatures = np.full(count, 1.0e4)\n",
    "electron_number_densities = np.linspace(1.0e1, 1.0e31, num=count)\n",
    "optical_depth = 0.0\n",
    "\n",
    "# delta_time = 0.01\n",
    "delta_time = 1.0e-20"
   ]
  },
  {
   "cell_type": "code",
   "execution_count": 3,
   "metadata": {},
   "outputs": [],
   "source": [
    "ri_balance = [\n",
    "    Transition.PI_TASITSIOMI,\n",
    "    Transition.RR_BADNELL_VERNER,\n",
    "    Transition.DR_BADNELL,\n",
    "]\n",
    "\n",
    "b_factors = calculate_b_factors(\n",
    "    elements=elements,\n",
    "    population_nlte_1=population_nlte_1,\n",
    "    temperatures=temperatures,\n",
    "    electron_temperatures=electron_temperatures,\n",
    "    electron_number_densities=electron_number_densities,\n",
    "    optical_depth=optical_depth,\n",
    "    delta_time=delta_time,\n",
    "    transitions_types=[\n",
    "        *ri_balance,\n",
    "    ]\n",
    ")"
   ]
  },
  {
   "cell_type": "code",
   "execution_count": 5,
   "metadata": {},
   "outputs": [
    {
     "name": "stderr",
     "output_type": "stream",
     "text": [
      "/tmp/ipykernel_160086/1103917124.py:5: RuntimeWarning: divide by zero encountered in log10\n",
      "  np.log10(b_factors.T[i + sum([len(el.keys) for el in elements][:s])]),\n"
     ]
    },
    {
     "data": {
      "image/png": "[encoded data removed]",
      "text/plain": [
       "<Figure size 640x480 with 1 Axes>"
      ]
     },
     "metadata": {},
     "output_type": "display_data"
    }
   ],
   "source": [
    "for s, element in enumerate(elements):\n",
    "    for i, key in enumerate(element.keys):\n",
    "        plt.plot(\n",
    "            np.log10(electron_number_densities),\n",
    "            np.log10(b_factors.T[i + sum([len(el.keys) for el in elements][:s])]),\n",
    "            label=key,\n",
    "        )\n",
    "plt.legend()\n",
    "plt.show()"
   ]
  },
  {
   "cell_type": "code",
   "execution_count": null,
   "metadata": {},
   "outputs": [],
   "source": []
  }
 ],
 "metadata": {
  "kernelspec": {
   "display_name": ".venv",
   "language": "python",
   "name": "python3"
  },
  "language_info": {
   "codemirror_mode": {
    "name": "ipython",
    "version": 3
   },
   "file_extension": ".py",
   "mimetype": "text/x-python",
   "name": "python",
   "nbconvert_exporter": "python",
   "pygments_lexer": "ipython3",
   "version": "3.10.10"
  },
  "orig_nbformat": 4,
  "vscode": {
   "interpreter": {
    "hash": "0234768883feda8bd7fe0d82023ac4b97221c4c99e0b641af2ee6ec86413508c"
   }
  }
 },
 "nbformat": 4,
 "nbformat_minor": 2
}
